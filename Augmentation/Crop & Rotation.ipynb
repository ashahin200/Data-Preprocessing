{
 "metadata": {
  "language_info": {
   "codemirror_mode": {
    "name": "ipython",
    "version": 3
   },
   "file_extension": ".py",
   "mimetype": "text/x-python",
   "name": "python",
   "nbconvert_exporter": "python",
   "pygments_lexer": "ipython3",
   "version": "3.7.8-final"
  },
  "orig_nbformat": 2,
  "kernelspec": {
   "name": "python37864bit9e33beea0828477ebd1ddcd453532df4",
   "display_name": "Python 3.7.8 64-bit"
  }
 },
 "nbformat": 4,
 "nbformat_minor": 2,
 "cells": [
  {
   "cell_type": "code",
   "execution_count": 3,
   "metadata": {
    "tags": []
   },
   "outputs": [
    {
     "output_type": "stream",
     "name": "stdout",
     "text": "RGB\n(639, 513)\n"
    }
   ],
   "source": [
    "#Reading images\n",
    "from PIL import Image \n",
    "  \n",
    "img = Image.open(\"./images/test_image.jpg\")\n",
    "print(img.mode) # shows img channel\n",
    "\n",
    "# Resize images\n",
    "resize_img = img.resize((200, 200))\n",
    "resize_img.save(\"./images/test_image_resize.jpg\")  #squished image \n",
    "#Cropping images\n",
    "cropped_img = img.crop((0, 0, 300, 300))  #crops from (0,0) to (300,300)\n",
    "cropped_img.save(\"images/cropped_img.jpg\")\n",
    "# Rotating images\n",
    "img_rot_90 = img.rotate(90)\n",
    "img_rot_90.save(\"images/rotated90.jpg\")  #keeps original aspect ratio and dimensions\n",
    "img_45_rot = img.rotate(45, expand=True)  #Dimensions are expanded to fir the entire image\n",
    "img_45_rot.save(\"images/rotated45.jpg\")  \n",
    "#Flip or transpose images\n",
    "flipL_R = img.transpose(Image.FLIP_LEFT_RIGHT)\n",
    "flipL_R.save(\"images/flippedLR.jpg\")\n",
    "flipT_B = img.transpose(Image.FLIP_TOP_BOTTOM)\n",
    "flipT_B.save(\"images/flippedTB.jpg\")\n",
    "\n"
   ]
  }
 ]
}